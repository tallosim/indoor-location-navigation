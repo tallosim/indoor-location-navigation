{
 "cells": [
  {
   "cell_type": "code",
   "execution_count": 1,
   "id": "36afad10",
   "metadata": {},
   "outputs": [],
   "source": [
    "import pandas as pd\n",
    "import numpy as np\n",
    "import os\n",
    "import glob\n",
    "from tqdm.notebook import tqdm\n",
    "import json\n",
    "import gc"
   ]
  },
  {
   "cell_type": "code",
   "execution_count": null,
   "id": "d3924b7d",
   "metadata": {
    "scrolled": false
   },
   "outputs": [],
   "source": [
    "import sys\n",
    "!{sys.executable} -m pip install matplotlib"
   ]
  },
  {
   "cell_type": "code",
   "execution_count": 2,
   "id": "2b315ef5",
   "metadata": {},
   "outputs": [],
   "source": [
    "data_path = 'data2'\n",
    "\n",
    "floor_map = {\"B2\":-2, \"B1\":-1, \"F1\":0, \"F2\": 1, \"F3\":2, \"F4\":3, \"F5\":4, \"F6\":5, \"F7\":6,\"F8\":7, \"F9\":8,\n",
    "             \"1F\":0, \"2F\":1, \"3F\":2, \"4F\":3, \"5F\":4, \"6F\":5, \"7F\":6, \"8F\": 7, \"9F\":8}"
   ]
  },
  {
   "cell_type": "code",
   "execution_count": 3,
   "id": "d52e9b24",
   "metadata": {},
   "outputs": [],
   "source": [
    "ssubm_df = pd.read_csv(os.path.join(data_path, 'input', 'sample_submission.csv'))\n",
    "ssubm_df = ssubm_df['site_path_timestamp'].apply(lambda x: pd.Series(x.split('_')))\n",
    "ssubm_df.columns = ['site', 'path', 'timestamp']\n",
    "\n",
    "used_sites = ssubm_df['site'].value_counts().index.tolist()"
   ]
  },
  {
   "cell_type": "code",
   "execution_count": 4,
   "id": "fa1998c7",
   "metadata": {},
   "outputs": [],
   "source": [
    "def read_path(file_path):\n",
    "    site = file_path.split('/')[-3]\n",
    "    floor = floor_map[file_path.split('/')[-2]]\n",
    "    path = file_path.split('/')[-1][:-4]\n",
    "    \n",
    "    waypoints = list()\n",
    "    wifis = list()\n",
    "    \n",
    "    with open(file_path, 'r', encoding='utf-8') as file:\n",
    "        lines = file.readlines()\n",
    "    \n",
    "    for line_data in lines:\n",
    "        line_data = line_data.strip()\n",
    "        if not line_data or line_data[0] == '#':\n",
    "            continue\n",
    "\n",
    "        line_data = line_data.split('\\t')\n",
    "    \n",
    "        if line_data[1] == 'TYPE_WIFI':\n",
    "            wifis.append(line_data)\n",
    "        if line_data[1] == 'TYPE_WAYPOINT':\n",
    "            waypoints.append(line_data)\n",
    "            \n",
    "    if len(wifis) == 0 or len(waypoints) == 0:\n",
    "        return pd.DataFrame()\n",
    "        \n",
    "    wifi_df = pd.DataFrame(wifis)\n",
    "    wifi_df.columns = ['sys_ts', 'type', 'ssid', 'bssid', 'rssi', 'freq', 'last_ts' ]\n",
    "    wifi_df.drop(['type', 'ssid', 'last_ts', 'freq'], axis=1, inplace=True)\n",
    "    \n",
    "    wifi_df['site'] = site\n",
    "    wifi_df['floor'] = floor\n",
    "    wifi_df['path'] = path    \n",
    "    \n",
    "    for gid, g in wifi_df.groupby(['sys_ts'], group_keys=False):\n",
    "        dists = list()\n",
    "        for e, k in enumerate(waypoints):\n",
    "            dist = abs(int(gid) - int(k[0]))\n",
    "            dists.append(dist)\n",
    "        nearest_wp = waypoints[np.argmin(dists)]\n",
    "        \n",
    "        wifi_df.loc[g.index, ['x']] = nearest_wp[2]\n",
    "        wifi_df.loc[g.index, ['y']] = nearest_wp[3]\n",
    "    \n",
    "    return wifi_df"
   ]
  },
  {
   "cell_type": "code",
   "execution_count": 5,
   "id": "f8d5dda9",
   "metadata": {},
   "outputs": [],
   "source": [
    "def read_site(site_path):\n",
    "    site = site_path.split('/')[-1]\n",
    "    \n",
    "    train_paths = glob.glob(os.path.join(site_path, '*', '*'))\n",
    "    \n",
    "    paths_dfs = list()\n",
    "    \n",
    "    for train_path in tqdm(train_paths, desc=site[:10] + ' read paths'):\n",
    "        paths_dfs.append(read_path(train_path))\n",
    "        \n",
    "    site_df = pd.concat(paths_dfs)\n",
    "    \n",
    "    return site_df"
   ]
  },
  {
   "cell_type": "code",
   "execution_count": 6,
   "id": "2b571444",
   "metadata": {},
   "outputs": [],
   "source": [
    "def create_site_feature(site_df):    \n",
    "    bssid_count = site_df['bssid'].value_counts()\n",
    "    bssids = bssid_count[bssid_count > 1000].index.tolist()\n",
    "    \n",
    "    feauter_dfs = list()\n",
    "    \n",
    "    for gid, group_df in tqdm(site_df.groupby(['sys_ts'], group_keys=False)):\n",
    "        group_df = group_df.drop_duplicates(subset='bssid')\n",
    "        tmp = group_df.iloc[:,1:3]\n",
    "        feat = tmp.set_index('bssid').reindex(bssids).replace(np.nan, -999).T\n",
    "        feat[['x', 'y', 'floor', 'path', 'sys_ts']] = group_df[['x', 'y', 'floor', 'path', 'sys_ts']].iloc[0]\n",
    "        \n",
    "        feauter_dfs.append(feat)\n",
    "    \n",
    "    feauter_df = pd.concat(feauter_dfs)\n",
    "    #feauter_df.drop(['bssid'], axis=1, inplace=True)\n",
    "    gc.collect()\n",
    "    return feauter_df, bssids"
   ]
  },
  {
   "cell_type": "code",
   "execution_count": 75,
   "id": "5cf5564c",
   "metadata": {},
   "outputs": [
    {
     "data": {
      "application/vnd.jupyter.widget-view+json": {
       "model_id": "57d14f43d8a54535b96ea1511e24577f",
       "version_major": 2,
       "version_minor": 0
      },
      "text/plain": [
       "5d27075f03 read paths:   0%|          | 0/1141 [00:00<?, ?it/s]"
      ]
     },
     "metadata": {},
     "output_type": "display_data"
    }
   ],
   "source": [
    "site_df = read_site(os.path.join(data_path, 'input', 'train', '5d27075f03f801723c2e360f'))"
   ]
  },
  {
   "cell_type": "code",
   "execution_count": 76,
   "id": "98e839c1",
   "metadata": {},
   "outputs": [
    {
     "data": {
      "text/html": [
       "<div>\n",
       "<style scoped>\n",
       "    .dataframe tbody tr th:only-of-type {\n",
       "        vertical-align: middle;\n",
       "    }\n",
       "\n",
       "    .dataframe tbody tr th {\n",
       "        vertical-align: top;\n",
       "    }\n",
       "\n",
       "    .dataframe thead th {\n",
       "        text-align: right;\n",
       "    }\n",
       "</style>\n",
       "<table border=\"1\" class=\"dataframe\">\n",
       "  <thead>\n",
       "    <tr style=\"text-align: right;\">\n",
       "      <th></th>\n",
       "      <th>sys_ts</th>\n",
       "      <th>bssid</th>\n",
       "      <th>rssi</th>\n",
       "      <th>site</th>\n",
       "      <th>floor</th>\n",
       "      <th>path</th>\n",
       "      <th>x</th>\n",
       "      <th>y</th>\n",
       "    </tr>\n",
       "  </thead>\n",
       "  <tbody>\n",
       "    <tr>\n",
       "      <th>0</th>\n",
       "      <td>1571392393290</td>\n",
       "      <td>2edc5b7a5e108c03585d0413af3f8d0a0eff6e62</td>\n",
       "      <td>-48</td>\n",
       "      <td>5d27075f03f801723c2e360f</td>\n",
       "      <td>1</td>\n",
       "      <td>5da98de2df065a00069be6d4</td>\n",
       "      <td>81.21368</td>\n",
       "      <td>106.87596</td>\n",
       "    </tr>\n",
       "    <tr>\n",
       "      <th>1</th>\n",
       "      <td>1571392393290</td>\n",
       "      <td>294a5d6e08480ef62f25b39f7447ad64df650619</td>\n",
       "      <td>-49</td>\n",
       "      <td>5d27075f03f801723c2e360f</td>\n",
       "      <td>1</td>\n",
       "      <td>5da98de2df065a00069be6d4</td>\n",
       "      <td>81.21368</td>\n",
       "      <td>106.87596</td>\n",
       "    </tr>\n",
       "    <tr>\n",
       "      <th>2</th>\n",
       "      <td>1571392393290</td>\n",
       "      <td>82880d2839e20429b96e088ce8535a1fc36cb963</td>\n",
       "      <td>-49</td>\n",
       "      <td>5d27075f03f801723c2e360f</td>\n",
       "      <td>1</td>\n",
       "      <td>5da98de2df065a00069be6d4</td>\n",
       "      <td>81.21368</td>\n",
       "      <td>106.87596</td>\n",
       "    </tr>\n",
       "    <tr>\n",
       "      <th>3</th>\n",
       "      <td>1571392393290</td>\n",
       "      <td>38b2ef79b6d1c1a2a3f338e5060e760b3e18a0ca</td>\n",
       "      <td>-50</td>\n",
       "      <td>5d27075f03f801723c2e360f</td>\n",
       "      <td>1</td>\n",
       "      <td>5da98de2df065a00069be6d4</td>\n",
       "      <td>81.21368</td>\n",
       "      <td>106.87596</td>\n",
       "    </tr>\n",
       "    <tr>\n",
       "      <th>4</th>\n",
       "      <td>1571392393290</td>\n",
       "      <td>5c13e738721357f640cfa9ac17091fcf8146e5e3</td>\n",
       "      <td>-51</td>\n",
       "      <td>5d27075f03f801723c2e360f</td>\n",
       "      <td>1</td>\n",
       "      <td>5da98de2df065a00069be6d4</td>\n",
       "      <td>81.21368</td>\n",
       "      <td>106.87596</td>\n",
       "    </tr>\n",
       "    <tr>\n",
       "      <th>...</th>\n",
       "      <td>...</td>\n",
       "      <td>...</td>\n",
       "      <td>...</td>\n",
       "      <td>...</td>\n",
       "      <td>...</td>\n",
       "      <td>...</td>\n",
       "      <td>...</td>\n",
       "      <td>...</td>\n",
       "    </tr>\n",
       "    <tr>\n",
       "      <th>874</th>\n",
       "      <td>1571309327235</td>\n",
       "      <td>f9d650188e96137bd4c7dc3a96b7783f19881635</td>\n",
       "      <td>-89</td>\n",
       "      <td>5d27075f03f801723c2e360f</td>\n",
       "      <td>5</td>\n",
       "      <td>5da84747ae6cfc0006ca8268</td>\n",
       "      <td>54.08458</td>\n",
       "      <td>74.89516</td>\n",
       "    </tr>\n",
       "    <tr>\n",
       "      <th>875</th>\n",
       "      <td>1571309327235</td>\n",
       "      <td>2919faa14cdf7d1c40e10bbee47205e138f6d46f</td>\n",
       "      <td>-90</td>\n",
       "      <td>5d27075f03f801723c2e360f</td>\n",
       "      <td>5</td>\n",
       "      <td>5da84747ae6cfc0006ca8268</td>\n",
       "      <td>54.08458</td>\n",
       "      <td>74.89516</td>\n",
       "    </tr>\n",
       "    <tr>\n",
       "      <th>876</th>\n",
       "      <td>1571309327235</td>\n",
       "      <td>07244f79daa5ec8938ae36ba341262aa5ee11df4</td>\n",
       "      <td>-91</td>\n",
       "      <td>5d27075f03f801723c2e360f</td>\n",
       "      <td>5</td>\n",
       "      <td>5da84747ae6cfc0006ca8268</td>\n",
       "      <td>54.08458</td>\n",
       "      <td>74.89516</td>\n",
       "    </tr>\n",
       "    <tr>\n",
       "      <th>877</th>\n",
       "      <td>1571309327235</td>\n",
       "      <td>38f8bc0074544eb010dbca5fe45025a47478071c</td>\n",
       "      <td>-91</td>\n",
       "      <td>5d27075f03f801723c2e360f</td>\n",
       "      <td>5</td>\n",
       "      <td>5da84747ae6cfc0006ca8268</td>\n",
       "      <td>54.08458</td>\n",
       "      <td>74.89516</td>\n",
       "    </tr>\n",
       "    <tr>\n",
       "      <th>878</th>\n",
       "      <td>1571309327235</td>\n",
       "      <td>c5594c19644e376db64fe03056feaab560aba81d</td>\n",
       "      <td>-93</td>\n",
       "      <td>5d27075f03f801723c2e360f</td>\n",
       "      <td>5</td>\n",
       "      <td>5da84747ae6cfc0006ca8268</td>\n",
       "      <td>54.08458</td>\n",
       "      <td>74.89516</td>\n",
       "    </tr>\n",
       "  </tbody>\n",
       "</table>\n",
       "<p>6080195 rows × 8 columns</p>\n",
       "</div>"
      ],
      "text/plain": [
       "            sys_ts                                     bssid rssi  \\\n",
       "0    1571392393290  2edc5b7a5e108c03585d0413af3f8d0a0eff6e62  -48   \n",
       "1    1571392393290  294a5d6e08480ef62f25b39f7447ad64df650619  -49   \n",
       "2    1571392393290  82880d2839e20429b96e088ce8535a1fc36cb963  -49   \n",
       "3    1571392393290  38b2ef79b6d1c1a2a3f338e5060e760b3e18a0ca  -50   \n",
       "4    1571392393290  5c13e738721357f640cfa9ac17091fcf8146e5e3  -51   \n",
       "..             ...                                       ...  ...   \n",
       "874  1571309327235  f9d650188e96137bd4c7dc3a96b7783f19881635  -89   \n",
       "875  1571309327235  2919faa14cdf7d1c40e10bbee47205e138f6d46f  -90   \n",
       "876  1571309327235  07244f79daa5ec8938ae36ba341262aa5ee11df4  -91   \n",
       "877  1571309327235  38f8bc0074544eb010dbca5fe45025a47478071c  -91   \n",
       "878  1571309327235  c5594c19644e376db64fe03056feaab560aba81d  -93   \n",
       "\n",
       "                         site  floor                      path         x  \\\n",
       "0    5d27075f03f801723c2e360f      1  5da98de2df065a00069be6d4  81.21368   \n",
       "1    5d27075f03f801723c2e360f      1  5da98de2df065a00069be6d4  81.21368   \n",
       "2    5d27075f03f801723c2e360f      1  5da98de2df065a00069be6d4  81.21368   \n",
       "3    5d27075f03f801723c2e360f      1  5da98de2df065a00069be6d4  81.21368   \n",
       "4    5d27075f03f801723c2e360f      1  5da98de2df065a00069be6d4  81.21368   \n",
       "..                        ...    ...                       ...       ...   \n",
       "874  5d27075f03f801723c2e360f      5  5da84747ae6cfc0006ca8268  54.08458   \n",
       "875  5d27075f03f801723c2e360f      5  5da84747ae6cfc0006ca8268  54.08458   \n",
       "876  5d27075f03f801723c2e360f      5  5da84747ae6cfc0006ca8268  54.08458   \n",
       "877  5d27075f03f801723c2e360f      5  5da84747ae6cfc0006ca8268  54.08458   \n",
       "878  5d27075f03f801723c2e360f      5  5da84747ae6cfc0006ca8268  54.08458   \n",
       "\n",
       "             y  \n",
       "0    106.87596  \n",
       "1    106.87596  \n",
       "2    106.87596  \n",
       "3    106.87596  \n",
       "4    106.87596  \n",
       "..         ...  \n",
       "874   74.89516  \n",
       "875   74.89516  \n",
       "876   74.89516  \n",
       "877   74.89516  \n",
       "878   74.89516  \n",
       "\n",
       "[6080195 rows x 8 columns]"
      ]
     },
     "execution_count": 76,
     "metadata": {},
     "output_type": "execute_result"
    }
   ],
   "source": [
    "site_df"
   ]
  },
  {
   "cell_type": "code",
   "execution_count": 77,
   "id": "df9d75d8",
   "metadata": {},
   "outputs": [
    {
     "data": {
      "application/vnd.jupyter.widget-view+json": {
       "model_id": "2a367bf9e38e4643b292095ce8a5551f",
       "version_major": 2,
       "version_minor": 0
      },
      "text/plain": [
       "  0%|          | 0/2 [00:00<?, ?it/s]"
      ]
     },
     "metadata": {},
     "output_type": "display_data"
    }
   ],
   "source": [
    "feauter_df, bssids = create_site_feature(site_df.head(1000))"
   ]
  },
  {
   "cell_type": "code",
   "execution_count": 78,
   "id": "6e7b1463",
   "metadata": {},
   "outputs": [
    {
     "data": {
      "text/html": [
       "<div>\n",
       "<style scoped>\n",
       "    .dataframe tbody tr th:only-of-type {\n",
       "        vertical-align: middle;\n",
       "    }\n",
       "\n",
       "    .dataframe tbody tr th {\n",
       "        vertical-align: top;\n",
       "    }\n",
       "\n",
       "    .dataframe thead th {\n",
       "        text-align: right;\n",
       "    }\n",
       "</style>\n",
       "<table border=\"1\" class=\"dataframe\">\n",
       "  <thead>\n",
       "    <tr style=\"text-align: right;\">\n",
       "      <th>bssid</th>\n",
       "      <th>47f130e620fd5908a353b66b8537c5cd81f82318</th>\n",
       "      <th>fe035a849d728f6e37a8ffb93964655bd108aabe</th>\n",
       "      <th>44af9f2cd5d5ce0f4c8b6416b15d52a552b90735</th>\n",
       "      <th>c3fca718dc87e82937da9a9ebff0ebd156d7db33</th>\n",
       "      <th>8f95dae562bfb3c35cae53e8360d82bef990ddf9</th>\n",
       "      <th>dad3a56e96bd9fc9a70f65c15d529a80f0c3b567</th>\n",
       "      <th>e054f20200e3a114d462beabd0a8fcd3dcb76f74</th>\n",
       "      <th>6e15fa474f4da69c8825fb05b4dde834a7d6bac2</th>\n",
       "      <th>42a39d402d6526260d68f8db3191580769b16590</th>\n",
       "      <th>86146ed74de90b80a1374a0f9d5f411e3cfa4e4f</th>\n",
       "      <th>...</th>\n",
       "      <th>53c1a2f1936fdf3d50a7644cae4afbbece689c34</th>\n",
       "      <th>b0b9d3ee626d27f001962da6814d2e3aee0b6070</th>\n",
       "      <th>57e16aeb1473e1e6fadfcaa14a2d47713505978d</th>\n",
       "      <th>f9978a67201a56412361f693b8d4fec314ff3fd1</th>\n",
       "      <th>37240291e1dd4139b6e28640bc9078c21561ad67</th>\n",
       "      <th>x</th>\n",
       "      <th>y</th>\n",
       "      <th>floor</th>\n",
       "      <th>path</th>\n",
       "      <th>sys_ts</th>\n",
       "    </tr>\n",
       "  </thead>\n",
       "  <tbody>\n",
       "    <tr>\n",
       "      <th>rssi</th>\n",
       "      <td>-69</td>\n",
       "      <td>-83</td>\n",
       "      <td>-72</td>\n",
       "      <td>-85</td>\n",
       "      <td>-85</td>\n",
       "      <td>-71</td>\n",
       "      <td>-81</td>\n",
       "      <td>-76</td>\n",
       "      <td>-72</td>\n",
       "      <td>-84</td>\n",
       "      <td>...</td>\n",
       "      <td>-90</td>\n",
       "      <td>-89</td>\n",
       "      <td>-91</td>\n",
       "      <td>-85</td>\n",
       "      <td>-88</td>\n",
       "      <td>81.21368</td>\n",
       "      <td>106.87596</td>\n",
       "      <td>1</td>\n",
       "      <td>5da98de2df065a00069be6d4</td>\n",
       "      <td>1571392393290</td>\n",
       "    </tr>\n",
       "    <tr>\n",
       "      <th>rssi</th>\n",
       "      <td>-69</td>\n",
       "      <td>-83</td>\n",
       "      <td>-69</td>\n",
       "      <td>-86</td>\n",
       "      <td>-85</td>\n",
       "      <td>-68</td>\n",
       "      <td>-82</td>\n",
       "      <td>-76</td>\n",
       "      <td>-72</td>\n",
       "      <td>-84</td>\n",
       "      <td>...</td>\n",
       "      <td>-999</td>\n",
       "      <td>-999</td>\n",
       "      <td>-999</td>\n",
       "      <td>-999</td>\n",
       "      <td>-999</td>\n",
       "      <td>80.9252</td>\n",
       "      <td>103.64109</td>\n",
       "      <td>1</td>\n",
       "      <td>5da98de2df065a00069be6d4</td>\n",
       "      <td>1571392395691</td>\n",
       "    </tr>\n",
       "  </tbody>\n",
       "</table>\n",
       "<p>2 rows × 553 columns</p>\n",
       "</div>"
      ],
      "text/plain": [
       "bssid 47f130e620fd5908a353b66b8537c5cd81f82318  \\\n",
       "rssi                                       -69   \n",
       "rssi                                       -69   \n",
       "\n",
       "bssid fe035a849d728f6e37a8ffb93964655bd108aabe  \\\n",
       "rssi                                       -83   \n",
       "rssi                                       -83   \n",
       "\n",
       "bssid 44af9f2cd5d5ce0f4c8b6416b15d52a552b90735  \\\n",
       "rssi                                       -72   \n",
       "rssi                                       -69   \n",
       "\n",
       "bssid c3fca718dc87e82937da9a9ebff0ebd156d7db33  \\\n",
       "rssi                                       -85   \n",
       "rssi                                       -86   \n",
       "\n",
       "bssid 8f95dae562bfb3c35cae53e8360d82bef990ddf9  \\\n",
       "rssi                                       -85   \n",
       "rssi                                       -85   \n",
       "\n",
       "bssid dad3a56e96bd9fc9a70f65c15d529a80f0c3b567  \\\n",
       "rssi                                       -71   \n",
       "rssi                                       -68   \n",
       "\n",
       "bssid e054f20200e3a114d462beabd0a8fcd3dcb76f74  \\\n",
       "rssi                                       -81   \n",
       "rssi                                       -82   \n",
       "\n",
       "bssid 6e15fa474f4da69c8825fb05b4dde834a7d6bac2  \\\n",
       "rssi                                       -76   \n",
       "rssi                                       -76   \n",
       "\n",
       "bssid 42a39d402d6526260d68f8db3191580769b16590  \\\n",
       "rssi                                       -72   \n",
       "rssi                                       -72   \n",
       "\n",
       "bssid 86146ed74de90b80a1374a0f9d5f411e3cfa4e4f  ...  \\\n",
       "rssi                                       -84  ...   \n",
       "rssi                                       -84  ...   \n",
       "\n",
       "bssid 53c1a2f1936fdf3d50a7644cae4afbbece689c34  \\\n",
       "rssi                                       -90   \n",
       "rssi                                      -999   \n",
       "\n",
       "bssid b0b9d3ee626d27f001962da6814d2e3aee0b6070  \\\n",
       "rssi                                       -89   \n",
       "rssi                                      -999   \n",
       "\n",
       "bssid 57e16aeb1473e1e6fadfcaa14a2d47713505978d  \\\n",
       "rssi                                       -91   \n",
       "rssi                                      -999   \n",
       "\n",
       "bssid f9978a67201a56412361f693b8d4fec314ff3fd1  \\\n",
       "rssi                                       -85   \n",
       "rssi                                      -999   \n",
       "\n",
       "bssid 37240291e1dd4139b6e28640bc9078c21561ad67         x          y floor  \\\n",
       "rssi                                       -88  81.21368  106.87596     1   \n",
       "rssi                                      -999   80.9252  103.64109     1   \n",
       "\n",
       "bssid                      path         sys_ts  \n",
       "rssi   5da98de2df065a00069be6d4  1571392393290  \n",
       "rssi   5da98de2df065a00069be6d4  1571392395691  \n",
       "\n",
       "[2 rows x 553 columns]"
      ]
     },
     "execution_count": 78,
     "metadata": {},
     "output_type": "execute_result"
    }
   ],
   "source": [
    "feauter_df"
   ]
  },
  {
   "cell_type": "code",
   "execution_count": 7,
   "id": "f9eb8021",
   "metadata": {},
   "outputs": [
    {
     "data": {
      "application/vnd.jupyter.widget-view+json": {
       "model_id": "2cbafc6cfe834f22a39f4b79a259b5a8",
       "version_major": 2,
       "version_minor": 0
      },
      "text/plain": [
       "  0%|          | 0/2 [00:00<?, ?it/s]"
      ]
     },
     "metadata": {},
     "output_type": "display_data"
    },
    {
     "data": {
      "application/vnd.jupyter.widget-view+json": {
       "model_id": "6db302e33dd841c0864bb0400a9c61c3",
       "version_major": 2,
       "version_minor": 0
      },
      "text/plain": [
       "5d27075f03 read paths:   0%|          | 0/1141 [00:00<?, ?it/s]"
      ]
     },
     "metadata": {},
     "output_type": "display_data"
    },
    {
     "data": {
      "application/vnd.jupyter.widget-view+json": {
       "model_id": "9c1f9e5f724a4d43b03bee2844d4ecf6",
       "version_major": 2,
       "version_minor": 0
      },
      "text/plain": [
       "  0%|          | 0/23665 [00:00<?, ?it/s]"
      ]
     },
     "metadata": {},
     "output_type": "display_data"
    },
    {
     "data": {
      "application/vnd.jupyter.widget-view+json": {
       "model_id": "4b34a535b70840e28820cb44873a77c8",
       "version_major": 2,
       "version_minor": 0
      },
      "text/plain": [
       "5c3c44b803 read paths:   0%|          | 0/385 [00:00<?, ?it/s]"
      ]
     },
     "metadata": {},
     "output_type": "display_data"
    },
    {
     "data": {
      "application/vnd.jupyter.widget-view+json": {
       "model_id": "0bbc2c436a3e499195c0a9534fa654e5",
       "version_major": 2,
       "version_minor": 0
      },
      "text/plain": [
       "  0%|          | 0/9736 [00:00<?, ?it/s]"
      ]
     },
     "metadata": {},
     "output_type": "display_data"
    }
   ],
   "source": [
    "for site in tqdm(used_sites[22:]):\n",
    "    site_path = os.path.join(data_path, 'input', 'train', site)\n",
    "\n",
    "    site_df = read_site(site_path)\n",
    "    \n",
    "    feauter_df, bssids = create_site_feature(site_df)\n",
    "    \n",
    "    feauter_df.to_csv(os.path.join(data_path, 'output', 'features', 'train', site+'.csv'), index=False)\n",
    "    with open(os.path.join(data_path, 'output', 'features', 'bssid', site+'.json'), 'w') as f:\n",
    "        json.dump(bssids, f)\n",
    "        \n",
    "    del site_path\n",
    "    del site_df\n",
    "    del feauter_df\n",
    "    del bssids\n",
    "    gc.collect()"
   ]
  },
  {
   "cell_type": "code",
   "execution_count": null,
   "id": "a1db23ae",
   "metadata": {},
   "outputs": [],
   "source": []
  }
 ],
 "metadata": {
  "kernelspec": {
   "display_name": "Python 3",
   "language": "python",
   "name": "python3"
  },
  "language_info": {
   "codemirror_mode": {
    "name": "ipython",
    "version": 3
   },
   "file_extension": ".py",
   "mimetype": "text/x-python",
   "name": "python",
   "nbconvert_exporter": "python",
   "pygments_lexer": "ipython3",
   "version": "3.8.5"
  }
 },
 "nbformat": 4,
 "nbformat_minor": 5
}
