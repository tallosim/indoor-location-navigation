{
 "cells": [
  {
   "cell_type": "code",
   "execution_count": 1,
   "id": "04a78a7a",
   "metadata": {},
   "outputs": [],
   "source": [
    "import os\n",
    "import pandas as pd\n",
    "from sklearn.ensemble import RandomForestClassifier\n",
    "import numpy as np\n",
    "import glob\n",
    "from tqdm.notebook import tqdm"
   ]
  },
  {
   "cell_type": "code",
   "execution_count": 2,
   "id": "4e670cc2",
   "metadata": {},
   "outputs": [],
   "source": [
    "data_path = 'data2'"
   ]
  },
  {
   "cell_type": "code",
   "execution_count": 3,
   "id": "5b41344e",
   "metadata": {},
   "outputs": [],
   "source": [
    "ssubm_df = pd.read_csv(os.path.join(data_path, 'input', 'sample_submission.csv'))\n",
    "ssubm_df = ssubm_df['site_path_timestamp'].apply(lambda x: pd.Series(x.split('_')))\n",
    "ssubm_df.columns = ['site', 'path', 'timestamp']"
   ]
  },
  {
   "cell_type": "code",
   "execution_count": 5,
   "id": "960392d0",
   "metadata": {},
   "outputs": [
    {
     "data": {
      "application/vnd.jupyter.widget-view+json": {
       "model_id": "af798931a7274eccb243d9ce8881c79b",
       "version_major": 2,
       "version_minor": 0
      },
      "text/plain": [
       "  0%|          | 0/24 [00:00<?, ?it/s]"
      ]
     },
     "metadata": {},
     "output_type": "display_data"
    }
   ],
   "source": [
    "site_train_paths = glob.glob(os.path.join(data_path, 'output', 'features', 'train', '*'))\n",
    "\n",
    "feauter_dfs = list()\n",
    "for site_train_path in tqdm(site_train_paths):\n",
    "    feauter_dfs.append(pd.read_csv(site_train_path))"
   ]
  },
  {
   "cell_type": "code",
   "execution_count": 6,
   "id": "95eaac6d",
   "metadata": {},
   "outputs": [],
   "source": [
    "def create_train_df(feauter_df):\n",
    "    df = feauter_df.copy()\n",
    "    Y_np = df['floor'].to_numpy()\n",
    "\n",
    "    df.drop(['x', 'y', 'floor', 'path', 'sys_ts'], axis=1, inplace=True)\n",
    "    X_np = df.to_numpy()\n",
    "    \n",
    "    return X_np, Y_np"
   ]
  },
  {
   "cell_type": "code",
   "execution_count": 7,
   "id": "df05ad53",
   "metadata": {},
   "outputs": [
    {
     "data": {
      "application/vnd.jupyter.widget-view+json": {
       "model_id": "36fcca91f025455d86481b5eff0e01d0",
       "version_major": 2,
       "version_minor": 0
      },
      "text/plain": [
       "  0%|          | 0/24 [00:00<?, ?it/s]"
      ]
     },
     "metadata": {},
     "output_type": "display_data"
    }
   ],
   "source": [
    "models = dict()\n",
    "\n",
    "for i in tqdm(range(len(site_train_paths))):\n",
    "    site = site_train_paths[i].split('/')[-1][:-4]\n",
    "    \n",
    "    X_np, Y_np = create_train_df(feauter_dfs[i])\n",
    "    \n",
    "    model = RandomForestClassifier(n_estimators=20)\n",
    "    model.fit(X_np, Y_np)\n",
    "    \n",
    "    models[site] = model"
   ]
  },
  {
   "cell_type": "code",
   "execution_count": 8,
   "id": "14c19f29",
   "metadata": {},
   "outputs": [
    {
     "data": {
      "application/vnd.jupyter.widget-view+json": {
       "model_id": "28048663b6194b39a237f59ddcfb2fa2",
       "version_major": 2,
       "version_minor": 0
      },
      "text/plain": [
       "  0%|          | 0/24 [00:00<?, ?it/s]"
      ]
     },
     "metadata": {},
     "output_type": "display_data"
    }
   ],
   "source": [
    "site_test_paths = glob.glob(os.path.join(data_path, 'output', 'features', 'test', '*'))\n",
    "\n",
    "test_feauter_dfs = dict()\n",
    "for site_test_path in tqdm(site_test_paths):\n",
    "    site = site_test_path.split('/')[-1][:-4]\n",
    "    test_feauter_dfs[site] = pd.read_csv(site_test_path)"
   ]
  },
  {
   "cell_type": "code",
   "execution_count": 9,
   "id": "6cafe531",
   "metadata": {
    "scrolled": true
   },
   "outputs": [
    {
     "data": {
      "application/vnd.jupyter.widget-view+json": {
       "model_id": "12820317e46d4e1d8c4f9388008d5a0b",
       "version_major": 2,
       "version_minor": 0
      },
      "text/plain": [
       "  0%|          | 0/10133 [00:00<?, ?it/s]"
      ]
     },
     "metadata": {},
     "output_type": "display_data"
    }
   ],
   "source": [
    "for index, row in tqdm(ssubm_df.iterrows(), total=ssubm_df.shape[0]):\n",
    "    model = models[row.site]\n",
    "    \n",
    "    test_site_feauter_df = test_feauter_dfs[row.site]\n",
    "    test_path_feauter_df = test_site_feauter_df[test_site_feauter_df.path == row.path]\n",
    "    \n",
    "    dists = list()\n",
    "    for i, row_feat in test_path_feauter_df.iterrows():\n",
    "        dist = abs(int(row_feat.sys_ts) - int(row.timestamp))\n",
    "        dists.append(dist)\n",
    "    nearest = test_path_feauter_df.iloc[np.argmin(dists)]\n",
    "    \n",
    "    X_np = np.array([nearest[:-2].to_numpy()])\n",
    "    Y_pred = model.predict(X_np)[0]\n",
    "    \n",
    "    ssubm_df.loc[index, ['floor']] = Y_pred\n",
    "    \n",
    "    ssubm_df.loc[index, ['x']] = 75\n",
    "    ssubm_df.loc[index, ['y']] = 75\n",
    "    \n",
    "    #break\n",
    "    "
   ]
  },
  {
   "cell_type": "code",
   "execution_count": 10,
   "id": "486150ca",
   "metadata": {},
   "outputs": [],
   "source": [
    "ssubm_df['site_path_timestamp'] = ssubm_df['site'] + '_' + ssubm_df['path'] + '_' + ssubm_df['timestamp'] \n",
    "ssubm_df.drop(['site', 'path', 'timestamp'], axis=1, inplace=True)\n",
    "\n",
    "cols = ssubm_df.columns.tolist()\n",
    "cols = cols[-1:] + cols[:-1]\n",
    "ssubm_df = ssubm_df[cols]"
   ]
  },
  {
   "cell_type": "code",
   "execution_count": 12,
   "id": "54e69840",
   "metadata": {},
   "outputs": [
    {
     "data": {
      "text/html": [
       "<div>\n",
       "<style scoped>\n",
       "    .dataframe tbody tr th:only-of-type {\n",
       "        vertical-align: middle;\n",
       "    }\n",
       "\n",
       "    .dataframe tbody tr th {\n",
       "        vertical-align: top;\n",
       "    }\n",
       "\n",
       "    .dataframe thead th {\n",
       "        text-align: right;\n",
       "    }\n",
       "</style>\n",
       "<table border=\"1\" class=\"dataframe\">\n",
       "  <thead>\n",
       "    <tr style=\"text-align: right;\">\n",
       "      <th></th>\n",
       "      <th>site_path_timestamp</th>\n",
       "      <th>floor</th>\n",
       "      <th>x</th>\n",
       "      <th>y</th>\n",
       "    </tr>\n",
       "  </thead>\n",
       "  <tbody>\n",
       "    <tr>\n",
       "      <th>0</th>\n",
       "      <td>5a0546857ecc773753327266_046cfa46be49fc1083481...</td>\n",
       "      <td>0.0</td>\n",
       "      <td>75.0</td>\n",
       "      <td>75.0</td>\n",
       "    </tr>\n",
       "    <tr>\n",
       "      <th>1</th>\n",
       "      <td>5a0546857ecc773753327266_046cfa46be49fc1083481...</td>\n",
       "      <td>0.0</td>\n",
       "      <td>75.0</td>\n",
       "      <td>75.0</td>\n",
       "    </tr>\n",
       "    <tr>\n",
       "      <th>2</th>\n",
       "      <td>5a0546857ecc773753327266_046cfa46be49fc1083481...</td>\n",
       "      <td>0.0</td>\n",
       "      <td>75.0</td>\n",
       "      <td>75.0</td>\n",
       "    </tr>\n",
       "    <tr>\n",
       "      <th>3</th>\n",
       "      <td>5a0546857ecc773753327266_046cfa46be49fc1083481...</td>\n",
       "      <td>0.0</td>\n",
       "      <td>75.0</td>\n",
       "      <td>75.0</td>\n",
       "    </tr>\n",
       "    <tr>\n",
       "      <th>4</th>\n",
       "      <td>5a0546857ecc773753327266_046cfa46be49fc1083481...</td>\n",
       "      <td>0.0</td>\n",
       "      <td>75.0</td>\n",
       "      <td>75.0</td>\n",
       "    </tr>\n",
       "    <tr>\n",
       "      <th>...</th>\n",
       "      <td>...</td>\n",
       "      <td>...</td>\n",
       "      <td>...</td>\n",
       "      <td>...</td>\n",
       "    </tr>\n",
       "    <tr>\n",
       "      <th>10128</th>\n",
       "      <td>5dc8cea7659e181adb076a3f_fd64de8c4a2fc5ebb0e9f...</td>\n",
       "      <td>5.0</td>\n",
       "      <td>75.0</td>\n",
       "      <td>75.0</td>\n",
       "    </tr>\n",
       "    <tr>\n",
       "      <th>10129</th>\n",
       "      <td>5dc8cea7659e181adb076a3f_fd64de8c4a2fc5ebb0e9f...</td>\n",
       "      <td>5.0</td>\n",
       "      <td>75.0</td>\n",
       "      <td>75.0</td>\n",
       "    </tr>\n",
       "    <tr>\n",
       "      <th>10130</th>\n",
       "      <td>5dc8cea7659e181adb076a3f_fd64de8c4a2fc5ebb0e9f...</td>\n",
       "      <td>5.0</td>\n",
       "      <td>75.0</td>\n",
       "      <td>75.0</td>\n",
       "    </tr>\n",
       "    <tr>\n",
       "      <th>10131</th>\n",
       "      <td>5dc8cea7659e181adb076a3f_fd64de8c4a2fc5ebb0e9f...</td>\n",
       "      <td>5.0</td>\n",
       "      <td>75.0</td>\n",
       "      <td>75.0</td>\n",
       "    </tr>\n",
       "    <tr>\n",
       "      <th>10132</th>\n",
       "      <td>5dc8cea7659e181adb076a3f_fd64de8c4a2fc5ebb0e9f...</td>\n",
       "      <td>5.0</td>\n",
       "      <td>75.0</td>\n",
       "      <td>75.0</td>\n",
       "    </tr>\n",
       "  </tbody>\n",
       "</table>\n",
       "<p>10133 rows × 4 columns</p>\n",
       "</div>"
      ],
      "text/plain": [
       "                                     site_path_timestamp  floor     x     y\n",
       "0      5a0546857ecc773753327266_046cfa46be49fc1083481...    0.0  75.0  75.0\n",
       "1      5a0546857ecc773753327266_046cfa46be49fc1083481...    0.0  75.0  75.0\n",
       "2      5a0546857ecc773753327266_046cfa46be49fc1083481...    0.0  75.0  75.0\n",
       "3      5a0546857ecc773753327266_046cfa46be49fc1083481...    0.0  75.0  75.0\n",
       "4      5a0546857ecc773753327266_046cfa46be49fc1083481...    0.0  75.0  75.0\n",
       "...                                                  ...    ...   ...   ...\n",
       "10128  5dc8cea7659e181adb076a3f_fd64de8c4a2fc5ebb0e9f...    5.0  75.0  75.0\n",
       "10129  5dc8cea7659e181adb076a3f_fd64de8c4a2fc5ebb0e9f...    5.0  75.0  75.0\n",
       "10130  5dc8cea7659e181adb076a3f_fd64de8c4a2fc5ebb0e9f...    5.0  75.0  75.0\n",
       "10131  5dc8cea7659e181adb076a3f_fd64de8c4a2fc5ebb0e9f...    5.0  75.0  75.0\n",
       "10132  5dc8cea7659e181adb076a3f_fd64de8c4a2fc5ebb0e9f...    5.0  75.0  75.0\n",
       "\n",
       "[10133 rows x 4 columns]"
      ]
     },
     "execution_count": 12,
     "metadata": {},
     "output_type": "execute_result"
    }
   ],
   "source": [
    "ssubm_df"
   ]
  },
  {
   "cell_type": "code",
   "execution_count": null,
   "id": "71c97b95",
   "metadata": {},
   "outputs": [],
   "source": [
    "ssubm_df.to_csv(os.path.join(data_path, 'output', 'submission_1.csv'), index=False)"
   ]
  },
  {
   "cell_type": "code",
   "execution_count": null,
   "id": "3e1b2285",
   "metadata": {},
   "outputs": [],
   "source": []
  }
 ],
 "metadata": {
  "kernelspec": {
   "display_name": "Python 3",
   "language": "python",
   "name": "python3"
  },
  "language_info": {
   "codemirror_mode": {
    "name": "ipython",
    "version": 3
   },
   "file_extension": ".py",
   "mimetype": "text/x-python",
   "name": "python",
   "nbconvert_exporter": "python",
   "pygments_lexer": "ipython3",
   "version": "3.8.5"
  }
 },
 "nbformat": 4,
 "nbformat_minor": 5
}
