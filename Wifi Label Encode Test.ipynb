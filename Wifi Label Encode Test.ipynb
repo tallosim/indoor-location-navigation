{
 "cells": [
  {
   "cell_type": "code",
   "execution_count": 1,
   "id": "94f22f17",
   "metadata": {},
   "outputs": [],
   "source": [
    "import pandas as pd\n",
    "import numpy as np\n",
    "import os\n",
    "import glob\n",
    "from tqdm.notebook import tqdm\n",
    "import json\n",
    "import gc"
   ]
  },
  {
   "cell_type": "code",
   "execution_count": 2,
   "id": "4211f349",
   "metadata": {},
   "outputs": [],
   "source": [
    "data_path = 'data2'\n",
    "\n",
    "floor_map = {\"B2\":-2, \"B1\":-1, \"F1\":0, \"F2\": 1, \"F3\":2, \"F4\":3, \"F5\":4, \"F6\":5, \"F7\":6,\"F8\":7, \"F9\":8,\n",
    "             \"1F\":0, \"2F\":1, \"3F\":2, \"4F\":3, \"5F\":4, \"6F\":5, \"7F\":6, \"8F\": 7, \"9F\":8}"
   ]
  },
  {
   "cell_type": "code",
   "execution_count": 3,
   "id": "bc5864dd",
   "metadata": {},
   "outputs": [],
   "source": [
    "ssubm_df = pd.read_csv(os.path.join(data_path, 'input', 'sample_submission.csv'))\n",
    "ssubm_df = ssubm_df['site_path_timestamp'].apply(lambda x: pd.Series(x.split('_')))\n",
    "ssubm_df.columns = ['site', 'path', 'timestamp']"
   ]
  },
  {
   "cell_type": "code",
   "execution_count": 4,
   "id": "121c794a",
   "metadata": {},
   "outputs": [],
   "source": [
    "def read_path(file_path):\n",
    "    path = file_path.split('/')[-1][:-4]\n",
    "    \n",
    "    wifis = list()\n",
    "    \n",
    "    with open(file_path, 'r', encoding='utf-8') as file:\n",
    "        lines = file.readlines()\n",
    "    \n",
    "    site = lines[1].split('\\t')[1][7:]\n",
    "    \n",
    "    for line_data in lines:\n",
    "        line_data = line_data.strip()\n",
    "        if not line_data or line_data[0] == '#':\n",
    "            continue\n",
    "\n",
    "        line_data = line_data.split('\\t')\n",
    "    \n",
    "        if line_data[1] == 'TYPE_WIFI':\n",
    "            wifis.append(line_data)\n",
    "            \n",
    "    if len(wifis) == 0:\n",
    "        return pd.DataFrame()\n",
    "        \n",
    "    wifi_df = pd.DataFrame(wifis)\n",
    "    wifi_df.columns = ['sys_ts', 'type', 'ssid', 'bssid', 'rssi', 'freq', 'last_ts' ]\n",
    "    wifi_df.drop(['type', 'ssid', 'last_ts', 'freq'], axis=1, inplace=True)\n",
    "    \n",
    "    wifi_df['site'] = site\n",
    "    wifi_df['path'] = path    \n",
    "    \n",
    "    return wifi_df"
   ]
  },
  {
   "cell_type": "code",
   "execution_count": 5,
   "id": "4b37460e",
   "metadata": {},
   "outputs": [],
   "source": [
    "def read_site(test_paths, site):\n",
    "    paths_dfs = list()\n",
    "    \n",
    "    for test_path in tqdm(test_paths, desc=site[:10] + ' read paths'):\n",
    "        paths_dfs.append(read_path(test_path))\n",
    "        #break\n",
    "        \n",
    "    site_df = pd.concat(paths_dfs)\n",
    "    \n",
    "    return site_df"
   ]
  },
  {
   "cell_type": "code",
   "execution_count": 6,
   "id": "943698e0",
   "metadata": {},
   "outputs": [],
   "source": [
    "def create_site_feature(site_df, bssids):    \n",
    "    feauter_dfs = list()\n",
    "    \n",
    "    for gid, group_df in tqdm(site_df.groupby(['sys_ts'], group_keys=False)):\n",
    "        group_df = group_df.drop_duplicates(subset='bssid')\n",
    "        tmp = group_df.iloc[:,1:3]\n",
    "        feat = tmp.set_index('bssid').reindex(bssids).replace(np.nan, -999).T\n",
    "        feat[['path', 'sys_ts']] = group_df[['path', 'sys_ts']].iloc[0]\n",
    "        \n",
    "        feauter_dfs.append(feat)\n",
    "    \n",
    "    feauter_df = pd.concat(feauter_dfs)\n",
    "    gc.collect()\n",
    "    return feauter_df"
   ]
  },
  {
   "cell_type": "code",
   "execution_count": 7,
   "id": "b59c3534",
   "metadata": {},
   "outputs": [
    {
     "data": {
      "text/html": [
       "<div>\n",
       "<style scoped>\n",
       "    .dataframe tbody tr th:only-of-type {\n",
       "        vertical-align: middle;\n",
       "    }\n",
       "\n",
       "    .dataframe tbody tr th {\n",
       "        vertical-align: top;\n",
       "    }\n",
       "\n",
       "    .dataframe thead th {\n",
       "        text-align: right;\n",
       "    }\n",
       "</style>\n",
       "<table border=\"1\" class=\"dataframe\">\n",
       "  <thead>\n",
       "    <tr style=\"text-align: right;\">\n",
       "      <th></th>\n",
       "      <th>sys_ts</th>\n",
       "      <th>bssid</th>\n",
       "      <th>rssi</th>\n",
       "      <th>site</th>\n",
       "      <th>path</th>\n",
       "    </tr>\n",
       "  </thead>\n",
       "  <tbody>\n",
       "    <tr>\n",
       "      <th>0</th>\n",
       "      <td>0000000001180</td>\n",
       "      <td>889bfa434d66eed8c386ccbc90f445932c43f8dd</td>\n",
       "      <td>-58</td>\n",
       "      <td>5da1389e4db8ce0c98bd0547</td>\n",
       "      <td>00ff0c9a71cc37a2ebdd0f05</td>\n",
       "    </tr>\n",
       "    <tr>\n",
       "      <th>1</th>\n",
       "      <td>0000000001180</td>\n",
       "      <td>29c7d9e757292e7b2b3d00dc4dae7514531b20b4</td>\n",
       "      <td>-63</td>\n",
       "      <td>5da1389e4db8ce0c98bd0547</td>\n",
       "      <td>00ff0c9a71cc37a2ebdd0f05</td>\n",
       "    </tr>\n",
       "    <tr>\n",
       "      <th>2</th>\n",
       "      <td>0000000001180</td>\n",
       "      <td>98d67fadac518296992afddd24e97a2855af9472</td>\n",
       "      <td>-64</td>\n",
       "      <td>5da1389e4db8ce0c98bd0547</td>\n",
       "      <td>00ff0c9a71cc37a2ebdd0f05</td>\n",
       "    </tr>\n",
       "    <tr>\n",
       "      <th>3</th>\n",
       "      <td>0000000001180</td>\n",
       "      <td>11567178cc5ca582a37c4733207c77739e1bf5fd</td>\n",
       "      <td>-64</td>\n",
       "      <td>5da1389e4db8ce0c98bd0547</td>\n",
       "      <td>00ff0c9a71cc37a2ebdd0f05</td>\n",
       "    </tr>\n",
       "    <tr>\n",
       "      <th>4</th>\n",
       "      <td>0000000001180</td>\n",
       "      <td>bd400fbef9b9b15143e93f8ad2efb07c076e2f5b</td>\n",
       "      <td>-66</td>\n",
       "      <td>5da1389e4db8ce0c98bd0547</td>\n",
       "      <td>00ff0c9a71cc37a2ebdd0f05</td>\n",
       "    </tr>\n",
       "    <tr>\n",
       "      <th>...</th>\n",
       "      <td>...</td>\n",
       "      <td>...</td>\n",
       "      <td>...</td>\n",
       "      <td>...</td>\n",
       "      <td>...</td>\n",
       "    </tr>\n",
       "    <tr>\n",
       "      <th>2726</th>\n",
       "      <td>0000000086716</td>\n",
       "      <td>b1bf92177ec7aefb36d71ed7efbc6f97f5f31a98</td>\n",
       "      <td>-89</td>\n",
       "      <td>5da1389e4db8ce0c98bd0547</td>\n",
       "      <td>00ff0c9a71cc37a2ebdd0f05</td>\n",
       "    </tr>\n",
       "    <tr>\n",
       "      <th>2727</th>\n",
       "      <td>0000000086716</td>\n",
       "      <td>ea3cf52d4c93e6cdc26478871bc11493b474bd23</td>\n",
       "      <td>-89</td>\n",
       "      <td>5da1389e4db8ce0c98bd0547</td>\n",
       "      <td>00ff0c9a71cc37a2ebdd0f05</td>\n",
       "    </tr>\n",
       "    <tr>\n",
       "      <th>2728</th>\n",
       "      <td>0000000086716</td>\n",
       "      <td>68240ad4bdd59cd3b623d81cedceca3f10b0a701</td>\n",
       "      <td>-89</td>\n",
       "      <td>5da1389e4db8ce0c98bd0547</td>\n",
       "      <td>00ff0c9a71cc37a2ebdd0f05</td>\n",
       "    </tr>\n",
       "    <tr>\n",
       "      <th>2729</th>\n",
       "      <td>0000000086716</td>\n",
       "      <td>9770ecfe259938435eb4e3751883ffd797c527b7</td>\n",
       "      <td>-89</td>\n",
       "      <td>5da1389e4db8ce0c98bd0547</td>\n",
       "      <td>00ff0c9a71cc37a2ebdd0f05</td>\n",
       "    </tr>\n",
       "    <tr>\n",
       "      <th>2730</th>\n",
       "      <td>0000000086716</td>\n",
       "      <td>4f481c9fdc724560645ee3911e21ec6c0b0a7941</td>\n",
       "      <td>-91</td>\n",
       "      <td>5da1389e4db8ce0c98bd0547</td>\n",
       "      <td>00ff0c9a71cc37a2ebdd0f05</td>\n",
       "    </tr>\n",
       "  </tbody>\n",
       "</table>\n",
       "<p>2731 rows × 5 columns</p>\n",
       "</div>"
      ],
      "text/plain": [
       "             sys_ts                                     bssid rssi  \\\n",
       "0     0000000001180  889bfa434d66eed8c386ccbc90f445932c43f8dd  -58   \n",
       "1     0000000001180  29c7d9e757292e7b2b3d00dc4dae7514531b20b4  -63   \n",
       "2     0000000001180  98d67fadac518296992afddd24e97a2855af9472  -64   \n",
       "3     0000000001180  11567178cc5ca582a37c4733207c77739e1bf5fd  -64   \n",
       "4     0000000001180  bd400fbef9b9b15143e93f8ad2efb07c076e2f5b  -66   \n",
       "...             ...                                       ...  ...   \n",
       "2726  0000000086716  b1bf92177ec7aefb36d71ed7efbc6f97f5f31a98  -89   \n",
       "2727  0000000086716  ea3cf52d4c93e6cdc26478871bc11493b474bd23  -89   \n",
       "2728  0000000086716  68240ad4bdd59cd3b623d81cedceca3f10b0a701  -89   \n",
       "2729  0000000086716  9770ecfe259938435eb4e3751883ffd797c527b7  -89   \n",
       "2730  0000000086716  4f481c9fdc724560645ee3911e21ec6c0b0a7941  -91   \n",
       "\n",
       "                          site                      path  \n",
       "0     5da1389e4db8ce0c98bd0547  00ff0c9a71cc37a2ebdd0f05  \n",
       "1     5da1389e4db8ce0c98bd0547  00ff0c9a71cc37a2ebdd0f05  \n",
       "2     5da1389e4db8ce0c98bd0547  00ff0c9a71cc37a2ebdd0f05  \n",
       "3     5da1389e4db8ce0c98bd0547  00ff0c9a71cc37a2ebdd0f05  \n",
       "4     5da1389e4db8ce0c98bd0547  00ff0c9a71cc37a2ebdd0f05  \n",
       "...                        ...                       ...  \n",
       "2726  5da1389e4db8ce0c98bd0547  00ff0c9a71cc37a2ebdd0f05  \n",
       "2727  5da1389e4db8ce0c98bd0547  00ff0c9a71cc37a2ebdd0f05  \n",
       "2728  5da1389e4db8ce0c98bd0547  00ff0c9a71cc37a2ebdd0f05  \n",
       "2729  5da1389e4db8ce0c98bd0547  00ff0c9a71cc37a2ebdd0f05  \n",
       "2730  5da1389e4db8ce0c98bd0547  00ff0c9a71cc37a2ebdd0f05  \n",
       "\n",
       "[2731 rows x 5 columns]"
      ]
     },
     "execution_count": 7,
     "metadata": {},
     "output_type": "execute_result"
    }
   ],
   "source": [
    "file_path = os.path.join(data_path, 'input', 'test', '00ff0c9a71cc37a2ebdd0f05.txt')\n",
    "wifi_df = read_path(file_path)\n",
    "wifi_df"
   ]
  },
  {
   "cell_type": "code",
   "execution_count": 8,
   "id": "c06ae63d",
   "metadata": {},
   "outputs": [
    {
     "data": {
      "application/vnd.jupyter.widget-view+json": {
       "model_id": "438b0eda86ad470c9f6e7b4ac4e94746",
       "version_major": 2,
       "version_minor": 0
      },
      "text/plain": [
       "  0%|          | 0/24 [00:00<?, ?it/s]"
      ]
     },
     "metadata": {},
     "output_type": "display_data"
    },
    {
     "data": {
      "application/vnd.jupyter.widget-view+json": {
       "model_id": "d570b08f37a94a4f94ff70e028a9d953",
       "version_major": 2,
       "version_minor": 0
      },
      "text/plain": [
       "5a0546857e read paths:   0%|          | 0/29 [00:00<?, ?it/s]"
      ]
     },
     "metadata": {},
     "output_type": "display_data"
    },
    {
     "data": {
      "application/vnd.jupyter.widget-view+json": {
       "model_id": "dfc89b09f3a84de58e2feb8c8888955c",
       "version_major": 2,
       "version_minor": 0
      },
      "text/plain": [
       "  0%|          | 0/1048 [00:00<?, ?it/s]"
      ]
     },
     "metadata": {},
     "output_type": "display_data"
    },
    {
     "data": {
      "application/vnd.jupyter.widget-view+json": {
       "model_id": "05b47cfbb42b4225b8d8c6dc347cfcf8",
       "version_major": 2,
       "version_minor": 0
      },
      "text/plain": [
       "5c3c44b803 read paths:   0%|          | 0/3 [00:00<?, ?it/s]"
      ]
     },
     "metadata": {},
     "output_type": "display_data"
    },
    {
     "data": {
      "application/vnd.jupyter.widget-view+json": {
       "model_id": "d470345cbfcb47f4ae2e119290c7dc60",
       "version_major": 2,
       "version_minor": 0
      },
      "text/plain": [
       "  0%|          | 0/98 [00:00<?, ?it/s]"
      ]
     },
     "metadata": {},
     "output_type": "display_data"
    },
    {
     "data": {
      "application/vnd.jupyter.widget-view+json": {
       "model_id": "96c790f8f1584e3db898b6e6533ad6aa",
       "version_major": 2,
       "version_minor": 0
      },
      "text/plain": [
       "5d27075f03 read paths:   0%|          | 0/5 [00:00<?, ?it/s]"
      ]
     },
     "metadata": {},
     "output_type": "display_data"
    },
    {
     "data": {
      "application/vnd.jupyter.widget-view+json": {
       "model_id": "ba49d288f36c4a91beeb23ecfc95e571",
       "version_major": 2,
       "version_minor": 0
      },
      "text/plain": [
       "  0%|          | 0/201 [00:00<?, ?it/s]"
      ]
     },
     "metadata": {},
     "output_type": "display_data"
    },
    {
     "data": {
      "application/vnd.jupyter.widget-view+json": {
       "model_id": "a02c8e35e09d47279ed79e8fdde90c17",
       "version_major": 2,
       "version_minor": 0
      },
      "text/plain": [
       "5d27096c03 read paths:   0%|          | 0/60 [00:00<?, ?it/s]"
      ]
     },
     "metadata": {},
     "output_type": "display_data"
    },
    {
     "data": {
      "application/vnd.jupyter.widget-view+json": {
       "model_id": "ff11c59c3b0d4a13a6e37282d3c41307",
       "version_major": 2,
       "version_minor": 0
      },
      "text/plain": [
       "  0%|          | 0/3211 [00:00<?, ?it/s]"
      ]
     },
     "metadata": {},
     "output_type": "display_data"
    },
    {
     "data": {
      "application/vnd.jupyter.widget-view+json": {
       "model_id": "149d0639974f4212b82409956e56bd7c",
       "version_major": 2,
       "version_minor": 0
      },
      "text/plain": [
       "5d27097f03 read paths:   0%|          | 0/17 [00:00<?, ?it/s]"
      ]
     },
     "metadata": {},
     "output_type": "display_data"
    },
    {
     "data": {
      "application/vnd.jupyter.widget-view+json": {
       "model_id": "5686f587d08c4b2f8df911581abef089",
       "version_major": 2,
       "version_minor": 0
      },
      "text/plain": [
       "  0%|          | 0/802 [00:00<?, ?it/s]"
      ]
     },
     "metadata": {},
     "output_type": "display_data"
    },
    {
     "data": {
      "application/vnd.jupyter.widget-view+json": {
       "model_id": "d9fa55647d6a4b3b8cfa98a79eb903aa",
       "version_major": 2,
       "version_minor": 0
      },
      "text/plain": [
       "5d27099f03 read paths:   0%|          | 0/5 [00:00<?, ?it/s]"
      ]
     },
     "metadata": {},
     "output_type": "display_data"
    },
    {
     "data": {
      "application/vnd.jupyter.widget-view+json": {
       "model_id": "4cd49fd1891743a3a6cc83971686d514",
       "version_major": 2,
       "version_minor": 0
      },
      "text/plain": [
       "  0%|          | 0/227 [00:00<?, ?it/s]"
      ]
     },
     "metadata": {},
     "output_type": "display_data"
    },
    {
     "data": {
      "application/vnd.jupyter.widget-view+json": {
       "model_id": "6dc2ec2176ed45338d7c9fe5f190c009",
       "version_major": 2,
       "version_minor": 0
      },
      "text/plain": [
       "5d2709a003 read paths:   0%|          | 0/20 [00:00<?, ?it/s]"
      ]
     },
     "metadata": {},
     "output_type": "display_data"
    },
    {
     "data": {
      "application/vnd.jupyter.widget-view+json": {
       "model_id": "6875b8bd71824ab5850973e25b9fd497",
       "version_major": 2,
       "version_minor": 0
      },
      "text/plain": [
       "  0%|          | 0/996 [00:00<?, ?it/s]"
      ]
     },
     "metadata": {},
     "output_type": "display_data"
    },
    {
     "data": {
      "application/vnd.jupyter.widget-view+json": {
       "model_id": "70637cd18ac046a4a8de9d55219c81f7",
       "version_major": 2,
       "version_minor": 0
      },
      "text/plain": [
       "5d2709b303 read paths:   0%|          | 0/31 [00:00<?, ?it/s]"
      ]
     },
     "metadata": {},
     "output_type": "display_data"
    },
    {
     "data": {
      "application/vnd.jupyter.widget-view+json": {
       "model_id": "d847feed4d3f4ba887a55964d51d9bb3",
       "version_major": 2,
       "version_minor": 0
      },
      "text/plain": [
       "  0%|          | 0/2607 [00:00<?, ?it/s]"
      ]
     },
     "metadata": {},
     "output_type": "display_data"
    },
    {
     "data": {
      "application/vnd.jupyter.widget-view+json": {
       "model_id": "c2fa86ac285e46b28013f78f1594f783",
       "version_major": 2,
       "version_minor": 0
      },
      "text/plain": [
       "5d2709bb03 read paths:   0%|          | 0/34 [00:00<?, ?it/s]"
      ]
     },
     "metadata": {},
     "output_type": "display_data"
    },
    {
     "data": {
      "application/vnd.jupyter.widget-view+json": {
       "model_id": "525d63c6cc36483cbd500f3e3c296762",
       "version_major": 2,
       "version_minor": 0
      },
      "text/plain": [
       "  0%|          | 0/3085 [00:00<?, ?it/s]"
      ]
     },
     "metadata": {},
     "output_type": "display_data"
    },
    {
     "data": {
      "application/vnd.jupyter.widget-view+json": {
       "model_id": "6caf660d70c941af9f7bf5df27c761d8",
       "version_major": 2,
       "version_minor": 0
      },
      "text/plain": [
       "5d2709c303 read paths:   0%|          | 0/31 [00:00<?, ?it/s]"
      ]
     },
     "metadata": {},
     "output_type": "display_data"
    },
    {
     "data": {
      "application/vnd.jupyter.widget-view+json": {
       "model_id": "391e87c3e702487daf6831301c9037aa",
       "version_major": 2,
       "version_minor": 0
      },
      "text/plain": [
       "  0%|          | 0/1312 [00:00<?, ?it/s]"
      ]
     },
     "metadata": {},
     "output_type": "display_data"
    },
    {
     "data": {
      "application/vnd.jupyter.widget-view+json": {
       "model_id": "55e88cfc661d456c9603ffc08a68f539",
       "version_major": 2,
       "version_minor": 0
      },
      "text/plain": [
       "5d2709d403 read paths:   0%|          | 0/51 [00:00<?, ?it/s]"
      ]
     },
     "metadata": {},
     "output_type": "display_data"
    },
    {
     "data": {
      "application/vnd.jupyter.widget-view+json": {
       "model_id": "519dc807a246454e878fa47daa0b1d57",
       "version_major": 2,
       "version_minor": 0
      },
      "text/plain": [
       "  0%|          | 0/4582 [00:00<?, ?it/s]"
      ]
     },
     "metadata": {},
     "output_type": "display_data"
    },
    {
     "data": {
      "application/vnd.jupyter.widget-view+json": {
       "model_id": "a2c705fb723d4e839bb0ba7396777360",
       "version_major": 2,
       "version_minor": 0
      },
      "text/plain": [
       "5d2709e003 read paths:   0%|          | 0/31 [00:00<?, ?it/s]"
      ]
     },
     "metadata": {},
     "output_type": "display_data"
    },
    {
     "data": {
      "application/vnd.jupyter.widget-view+json": {
       "model_id": "f9bacdf5b8854a46ba6dc5a552a3a9d1",
       "version_major": 2,
       "version_minor": 0
      },
      "text/plain": [
       "  0%|          | 0/2113 [00:00<?, ?it/s]"
      ]
     },
     "metadata": {},
     "output_type": "display_data"
    },
    {
     "data": {
      "application/vnd.jupyter.widget-view+json": {
       "model_id": "aea18608fdfb4788a29ad12a3f593b96",
       "version_major": 2,
       "version_minor": 0
      },
      "text/plain": [
       "5da138274d read paths:   0%|          | 0/8 [00:00<?, ?it/s]"
      ]
     },
     "metadata": {},
     "output_type": "display_data"
    },
    {
     "data": {
      "application/vnd.jupyter.widget-view+json": {
       "model_id": "eade264977c14690a403cd0448d55f6b",
       "version_major": 2,
       "version_minor": 0
      },
      "text/plain": [
       "  0%|          | 0/385 [00:00<?, ?it/s]"
      ]
     },
     "metadata": {},
     "output_type": "display_data"
    },
    {
     "data": {
      "application/vnd.jupyter.widget-view+json": {
       "model_id": "76a31e915729457b89be42c003810713",
       "version_major": 2,
       "version_minor": 0
      },
      "text/plain": [
       "5da1382d4d read paths:   0%|          | 0/11 [00:00<?, ?it/s]"
      ]
     },
     "metadata": {},
     "output_type": "display_data"
    },
    {
     "data": {
      "application/vnd.jupyter.widget-view+json": {
       "model_id": "5bbf4af8b506425ba7bd903c4e17b81b",
       "version_major": 2,
       "version_minor": 0
      },
      "text/plain": [
       "  0%|          | 0/1146 [00:00<?, ?it/s]"
      ]
     },
     "metadata": {},
     "output_type": "display_data"
    },
    {
     "data": {
      "application/vnd.jupyter.widget-view+json": {
       "model_id": "81ae6ba817c7447c87f0d2743b702047",
       "version_major": 2,
       "version_minor": 0
      },
      "text/plain": [
       "5da138314d read paths:   0%|          | 0/17 [00:00<?, ?it/s]"
      ]
     },
     "metadata": {},
     "output_type": "display_data"
    },
    {
     "data": {
      "application/vnd.jupyter.widget-view+json": {
       "model_id": "ab02b9e45d844c40a90a0d0e73c08687",
       "version_major": 2,
       "version_minor": 0
      },
      "text/plain": [
       "  0%|          | 0/962 [00:00<?, ?it/s]"
      ]
     },
     "metadata": {},
     "output_type": "display_data"
    },
    {
     "data": {
      "application/vnd.jupyter.widget-view+json": {
       "model_id": "e01ac9c8be7d4febbc722e888eb2d2f4",
       "version_major": 2,
       "version_minor": 0
      },
      "text/plain": [
       "5da138364d read paths:   0%|          | 0/10 [00:00<?, ?it/s]"
      ]
     },
     "metadata": {},
     "output_type": "display_data"
    },
    {
     "data": {
      "application/vnd.jupyter.widget-view+json": {
       "model_id": "4404d41fe9f84b95bb19a616dcfc4ad8",
       "version_major": 2,
       "version_minor": 0
      },
      "text/plain": [
       "  0%|          | 0/668 [00:00<?, ?it/s]"
      ]
     },
     "metadata": {},
     "output_type": "display_data"
    },
    {
     "data": {
      "application/vnd.jupyter.widget-view+json": {
       "model_id": "48f98b6c22284077952fbc3a030a5348",
       "version_major": 2,
       "version_minor": 0
      },
      "text/plain": [
       "5da1383b4d read paths:   0%|          | 0/26 [00:00<?, ?it/s]"
      ]
     },
     "metadata": {},
     "output_type": "display_data"
    },
    {
     "data": {
      "application/vnd.jupyter.widget-view+json": {
       "model_id": "be95284c079549e296d5e94cc455025d",
       "version_major": 2,
       "version_minor": 0
      },
      "text/plain": [
       "  0%|          | 0/1456 [00:00<?, ?it/s]"
      ]
     },
     "metadata": {},
     "output_type": "display_data"
    },
    {
     "data": {
      "application/vnd.jupyter.widget-view+json": {
       "model_id": "f413bdaf81c44e3992fa4ddd6faaf0e1",
       "version_major": 2,
       "version_minor": 0
      },
      "text/plain": [
       "5da138754d read paths:   0%|          | 0/23 [00:00<?, ?it/s]"
      ]
     },
     "metadata": {},
     "output_type": "display_data"
    },
    {
     "data": {
      "application/vnd.jupyter.widget-view+json": {
       "model_id": "653e0a1f452a4be5902931405de5dfbd",
       "version_major": 2,
       "version_minor": 0
      },
      "text/plain": [
       "  0%|          | 0/1935 [00:00<?, ?it/s]"
      ]
     },
     "metadata": {},
     "output_type": "display_data"
    },
    {
     "data": {
      "application/vnd.jupyter.widget-view+json": {
       "model_id": "8f7917d8982b43b08fc71c08c4b58656",
       "version_major": 2,
       "version_minor": 0
      },
      "text/plain": [
       "5da138764d read paths:   0%|          | 0/36 [00:00<?, ?it/s]"
      ]
     },
     "metadata": {},
     "output_type": "display_data"
    },
    {
     "data": {
      "application/vnd.jupyter.widget-view+json": {
       "model_id": "cde0653905cb4edd88d999a7b29d7624",
       "version_major": 2,
       "version_minor": 0
      },
      "text/plain": [
       "  0%|          | 0/1711 [00:00<?, ?it/s]"
      ]
     },
     "metadata": {},
     "output_type": "display_data"
    },
    {
     "data": {
      "application/vnd.jupyter.widget-view+json": {
       "model_id": "e1586938498245f7ae5fd2c116448969",
       "version_major": 2,
       "version_minor": 0
      },
      "text/plain": [
       "5da1389e4d read paths:   0%|          | 0/13 [00:00<?, ?it/s]"
      ]
     },
     "metadata": {},
     "output_type": "display_data"
    },
    {
     "data": {
      "application/vnd.jupyter.widget-view+json": {
       "model_id": "cc92969e9bb44c61a1e6f627374f62da",
       "version_major": 2,
       "version_minor": 0
      },
      "text/plain": [
       "  0%|          | 0/514 [00:00<?, ?it/s]"
      ]
     },
     "metadata": {},
     "output_type": "display_data"
    },
    {
     "data": {
      "application/vnd.jupyter.widget-view+json": {
       "model_id": "936dbf1ce9a74f7c9f1ee1ecf4122a35",
       "version_major": 2,
       "version_minor": 0
      },
      "text/plain": [
       "5da138b74d read paths:   0%|          | 0/29 [00:00<?, ?it/s]"
      ]
     },
     "metadata": {},
     "output_type": "display_data"
    },
    {
     "data": {
      "application/vnd.jupyter.widget-view+json": {
       "model_id": "c7dd6ac842004fac96d4dac022dbedc0",
       "version_major": 2,
       "version_minor": 0
      },
      "text/plain": [
       "  0%|          | 0/1231 [00:00<?, ?it/s]"
      ]
     },
     "metadata": {},
     "output_type": "display_data"
    },
    {
     "data": {
      "application/vnd.jupyter.widget-view+json": {
       "model_id": "45c049794761497297a0001f97a0077d",
       "version_major": 2,
       "version_minor": 0
      },
      "text/plain": [
       "5da958dd46 read paths:   0%|          | 0/51 [00:00<?, ?it/s]"
      ]
     },
     "metadata": {},
     "output_type": "display_data"
    },
    {
     "data": {
      "application/vnd.jupyter.widget-view+json": {
       "model_id": "7e73fb3ef92742f991b01a1c05cdc2bd",
       "version_major": 2,
       "version_minor": 0
      },
      "text/plain": [
       "  0%|          | 0/3279 [00:00<?, ?it/s]"
      ]
     },
     "metadata": {},
     "output_type": "display_data"
    },
    {
     "data": {
      "application/vnd.jupyter.widget-view+json": {
       "model_id": "2e4a772c615b4e12b41fcdefa4fa39f8",
       "version_major": 2,
       "version_minor": 0
      },
      "text/plain": [
       "5dbc1d84c1 read paths:   0%|          | 0/50 [00:00<?, ?it/s]"
      ]
     },
     "metadata": {},
     "output_type": "display_data"
    },
    {
     "data": {
      "application/vnd.jupyter.widget-view+json": {
       "model_id": "6982836a8bd14657af4d0e17f74ae345",
       "version_major": 2,
       "version_minor": 0
      },
      "text/plain": [
       "  0%|          | 0/2087 [00:00<?, ?it/s]"
      ]
     },
     "metadata": {},
     "output_type": "display_data"
    },
    {
     "data": {
      "application/vnd.jupyter.widget-view+json": {
       "model_id": "5e4c1592e34d444c8d68f0f2c10a9cb8",
       "version_major": 2,
       "version_minor": 0
      },
      "text/plain": [
       "5dc8cea765 read paths:   0%|          | 0/35 [00:00<?, ?it/s]"
      ]
     },
     "metadata": {},
     "output_type": "display_data"
    },
    {
     "data": {
      "application/vnd.jupyter.widget-view+json": {
       "model_id": "296338c9325c4476a5d973a590453298",
       "version_major": 2,
       "version_minor": 0
      },
      "text/plain": [
       "  0%|          | 0/1662 [00:00<?, ?it/s]"
      ]
     },
     "metadata": {},
     "output_type": "display_data"
    }
   ],
   "source": [
    "for gid, group_df in tqdm(ssubm_df.groupby(['site'])):\n",
    "    site = group_df['site'].iloc[0]\n",
    "    \n",
    "    with open(os.path.join(data_path, 'output', 'bssid', site+'.json')) as f:\n",
    "        bssids = json.load(f)\n",
    "    \n",
    "    paths = group_df['path'].value_counts().index.tolist()\n",
    "    \n",
    "    test_paths = list(map(lambda path: os.path.join(data_path, 'input', 'test', path+'.txt'), paths))\n",
    "    \n",
    "    site_df = read_site(test_paths, site)\n",
    "    feauter_df = create_site_feature(site_df, bssids)\n",
    "    \n",
    "    feauter_df.to_csv(os.path.join(data_path, 'output', 'features', 'test', site+'.csv'), index=False)\n",
    "    gc.collect()"
   ]
  },
  {
   "cell_type": "code",
   "execution_count": null,
   "id": "c687e20a",
   "metadata": {},
   "outputs": [],
   "source": []
  }
 ],
 "metadata": {
  "kernelspec": {
   "display_name": "Python 3",
   "language": "python",
   "name": "python3"
  },
  "language_info": {
   "codemirror_mode": {
    "name": "ipython",
    "version": 3
   },
   "file_extension": ".py",
   "mimetype": "text/x-python",
   "name": "python",
   "nbconvert_exporter": "python",
   "pygments_lexer": "ipython3",
   "version": "3.8.5"
  }
 },
 "nbformat": 4,
 "nbformat_minor": 5
}
